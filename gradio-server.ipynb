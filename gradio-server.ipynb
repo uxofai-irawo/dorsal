{
 "cells": [
  {
   "cell_type": "code",
   "execution_count": null,
   "metadata": {
    "trusted": true
   },
   "outputs": [],
   "source": [
    "import gradio as gr\n",
    "\n",
    "import torch\n",
    "from PIL import Image, ImageFilter\n",
    "\n",
    "\n",
    "\n",
    "from diffusers import AutoPipelineForInpainting, ControlNetModel\n",
    "from diffusers import DPMSolverMultistepScheduler, EulerDiscreteScheduler, UniPCMultistepScheduler\n",
    "from diffusers import StableDiffusionPipeline as SDPipeline"
   ]
  },
  {
   "cell_type": "code",
   "execution_count": null,
   "metadata": {
    "trusted": true
   },
   "outputs": [],
   "source": [
    "pipe = AutoPipelineForInpainting.from_pretrained(\n",
    "  # \"runwayml/stable-diffusion-inpainting\",\n",
    "  # \"stable-diffusion-v1-5/stable-diffusion-inpainting\",\n",
    "  \"stabilityai/stable-diffusion-2-inpainting\",\n",
    "  safety_checker=None,\n",
    "  torch_dtype=torch.float16,\n",
    "  variant=\"fp16\",\n",
    ").to(\"cuda\")\n",
    "\n",
    "pipe.scheduler = UniPCMultistepScheduler.from_config(pipe.scheduler.config)"
   ]
  },
  {
   "cell_type": "code",
   "execution_count": null,
   "metadata": {
    "trusted": true
   },
   "outputs": [],
   "source": [
    "import numpy as np"
   ]
  },
  {
   "cell_type": "code",
   "execution_count": null,
   "metadata": {},
   "outputs": [],
   "source": [
    "im = Image.open(\"./base.jpg\")\n",
    "mask = Image.open(\"./mask.jpg\")#.filter(ImageFilter.GaussianBlur((2,2)))\n",
    "iw,ih = im.size\n",
    "\n",
    "mask = mask.resize((mask.width, ih))\n",
    "\n",
    "display(\n",
    "  Image.fromarray(\n",
    "    np.concatenate(\n",
    "      [np.array(im), np.array(mask)],\n",
    "      axis=1\n",
    "    )\n",
    "  ).resize((iw, ih//2))\n",
    ")"
   ]
  },
  {
   "cell_type": "code",
   "execution_count": null,
   "metadata": {},
   "outputs": [],
   "source": [
    "prompt = \"person facing away from the camera, we don't see their faces, we only see the back of their heads and hair\"\n",
    "negative_prompt = \"eyes, mask, mouth, nose, forehead\"\n",
    "\n",
    "output = pipe(prompt=prompt, negative_prompt=negative_prompt, image=im, mask_image=mask,\n",
    "              num_inference_steps=80, guidance_scale=32.0, strength=0.9,\n",
    "              width=iw, height=ih)\n",
    "display(output.images[0])"
   ]
  }
 ],
 "metadata": {
  "kaggle": {
   "accelerator": "nvidiaTeslaT4",
   "dataSources": [],
   "dockerImageVersionId": 30919,
   "isGpuEnabled": true,
   "isInternetEnabled": true,
   "language": "python",
   "sourceType": "notebook"
  },
  "kernelspec": {
   "display_name": "Python 3",
   "language": "python",
   "name": "python3"
  },
  "language_info": {
   "codemirror_mode": {
    "name": "ipython",
    "version": 3
   },
   "file_extension": ".py",
   "mimetype": "text/x-python",
   "name": "python",
   "nbconvert_exporter": "python",
   "pygments_lexer": "ipython3",
   "version": "3.10.12"
  }
 },
 "nbformat": 4,
 "nbformat_minor": 4
}
